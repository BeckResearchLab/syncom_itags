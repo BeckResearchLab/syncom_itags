{
 "cells": [
  {
   "cell_type": "code",
   "execution_count": 1,
   "metadata": {
    "collapsed": false
   },
   "outputs": [
    {
     "name": "stderr",
     "output_type": "stream",
     "text": [
      "Loading required package: Rcpp\n"
     ]
    },
    {
     "data": {
      "text/plain": [
       "[1] ‘1.1.8’"
      ]
     },
     "metadata": {},
     "output_type": "display_data"
    },
    {
     "name": "stderr",
     "output_type": "stream",
     "text": [
      "Loading required package: BiocGenerics\n",
      "Loading required package: parallel\n",
      "\n",
      "Attaching package: ‘BiocGenerics’\n",
      "\n",
      "The following objects are masked from ‘package:parallel’:\n",
      "\n",
      "    clusterApply, clusterApplyLB, clusterCall, clusterEvalQ,\n",
      "    clusterExport, clusterMap, parApply, parCapply, parLapply,\n",
      "    parLapplyLB, parRapply, parSapply, parSapplyLB\n",
      "\n",
      "The following objects are masked from ‘package:stats’:\n",
      "\n",
      "    IQR, mad, xtabs\n",
      "\n",
      "The following objects are masked from ‘package:base’:\n",
      "\n",
      "    anyDuplicated, append, as.data.frame, cbind, colnames, do.call,\n",
      "    duplicated, eval, evalq, Filter, Find, get, grep, grepl, intersect,\n",
      "    is.unsorted, lapply, lengths, Map, mapply, match, mget, order,\n",
      "    paste, pmax, pmax.int, pmin, pmin.int, Position, rank, rbind,\n",
      "    Reduce, rownames, sapply, setdiff, sort, table, tapply, union,\n",
      "    unique, unsplit, which, which.max, which.min\n",
      "\n",
      "Loading required package: BiocParallel\n",
      "Loading required package: Biostrings\n",
      "Loading required package: S4Vectors\n",
      "Loading required package: stats4\n",
      "\n",
      "Attaching package: ‘S4Vectors’\n",
      "\n",
      "The following objects are masked from ‘package:base’:\n",
      "\n",
      "    colMeans, colSums, expand.grid, rowMeans, rowSums\n",
      "\n",
      "Loading required package: IRanges\n",
      "Loading required package: XVector\n",
      "Loading required package: Rsamtools\n",
      "Loading required package: GenomeInfoDb\n",
      "Loading required package: GenomicRanges\n",
      "Loading required package: GenomicAlignments\n",
      "Loading required package: SummarizedExperiment\n",
      "Loading required package: Biobase\n",
      "Welcome to Bioconductor\n",
      "\n",
      "    Vignettes contain introductory material; view with\n",
      "    'browseVignettes()'. To cite Bioconductor, see\n",
      "    'citation(\"Biobase\")', and for packages 'citation(\"pkgname\")'.\n",
      "\n"
     ]
    },
    {
     "data": {
      "text/plain": [
       "[1] ‘1.32.0’"
      ]
     },
     "metadata": {},
     "output_type": "display_data"
    },
    {
     "data": {
      "text/plain": [
       "[1] ‘2.1.0’"
      ]
     },
     "metadata": {},
     "output_type": "display_data"
    }
   ],
   "source": [
    "library(dada2); packageVersion(\"dada2\")\n",
    "library(ShortRead); packageVersion(\"ShortRead\")\n",
    "library(ggplot2); packageVersion(\"ggplot2\")"
   ]
  },
  {
   "cell_type": "code",
   "execution_count": 4,
   "metadata": {
    "collapsed": true
   },
   "outputs": [],
   "source": [
    "p1 <- \"data/Understanding_methane_cycling_through_manipulation_of_synthetic_methane-oxidizing_communities__Synthetic_methane-oxidizing_com_itags_pl_1_[Synmetcoitagspl1_FD]/Raw_Data\"\n",
    "p2 <- \"data/Understanding_methane_cycling_through_manipulation_of_synthetic_methane-oxidizing_communities__Synthetic_methane-oxidizing_com_itags_pl_2_[Synmetcoitagspl2_FD]/Raw_Data\"\n",
    "fns <- c(list.files(p1, full.names=T), list.files(p2, full.names=T))\n",
    "head(fns)"
   ]
  },
  {
   "cell_type": "code",
   "execution_count": 34,
   "metadata": {
    "collapsed": false
   },
   "outputs": [
    {
     "ename": "ERROR",
     "evalue": "Error in as.vector(x, \"character\"): cannot coerce type 'closure' to vector of type 'character'\n",
     "output_type": "error",
     "traceback": [
      "Error in as.vector(x, \"character\"): cannot coerce type 'closure' to vector of type 'character'\nTraceback:\n",
      "1. file.path(path, fnFs)",
      "2. as.character(structure(function (object, ...) \n . standardGeneric(\"path\"), generic = structure(\"path\", package = \"Rsamtools\"), package = \"Rsamtools\", group = list(), valueClass = character(0), signature = \"object\", default = `\\001NULL\\001`, skeleton = (function (object, \n .     ...) \n . stop(\"invalid call in method dispatch to 'path' (no default method)\", \n .     domain = NA))(object, ...), class = structure(\"standardGeneric\", package = \"methods\")))",
      "3. as.character.default(structure(function (object, ...) \n . standardGeneric(\"path\"), generic = structure(\"path\", package = \"Rsamtools\"), package = \"Rsamtools\", group = list(), valueClass = character(0), signature = \"object\", default = `\\001NULL\\001`, skeleton = (function (object, \n .     ...) \n . stop(\"invalid call in method dispatch to 'path' (no default method)\", \n .     domain = NA))(object, ...), class = structure(\"standardGeneric\", package = \"methods\")))"
     ]
    }
   ],
   "source": [
    "fastqs <- fns[grepl(\".fastq.gz\", fns)]\n",
    "fastqs <- sort(fastqs) # Sort ensures forward/reverse reads are in same order\n",
    "fnFs <- fastqs[grepl(\"forward\", fastqs)] # Just the forward read files\n",
    "fnRs <- fastqs[grepl(\"reverse\", fastqs)] # Just the reverse read files\n",
    "# Get sample names from the first part of the forward read filenames\n",
    "sample.names <- sapply(strsplit(fnFs, \"_\"), `[`, 1)\n",
    "# Fully specify the path for the fnFs and fnRs\n",
    "fnFs <- file.path(path, fnFs)\n",
    "fnRs <- file.path(path, fnRs)"
   ]
  },
  {
   "cell_type": "code",
   "execution_count": null,
   "metadata": {
    "collapsed": false
   },
   "outputs": [],
   "source": [
    "strsplit(fnFs, \".\", fixed=T)"
   ]
  },
  {
   "cell_type": "code",
   "execution_count": null,
   "metadata": {
    "collapsed": true
   },
   "outputs": [],
   "source": []
  }
 ],
 "metadata": {
  "kernelspec": {
   "display_name": "R",
   "language": "R",
   "name": "ir"
  },
  "language_info": {
   "codemirror_mode": "r",
   "file_extension": ".r",
   "mimetype": "text/x-r-source",
   "name": "R",
   "pygments_lexer": "r",
   "version": "3.3.1"
  }
 },
 "nbformat": 4,
 "nbformat_minor": 0
}
